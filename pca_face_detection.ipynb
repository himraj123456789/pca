{
  "nbformat": 4,
  "nbformat_minor": 0,
  "metadata": {
    "colab": {
      "provenance": []
    },
    "kernelspec": {
      "name": "python3",
      "display_name": "Python 3"
    },
    "language_info": {
      "name": "python"
    }
  },
  "cells": [
    {
      "cell_type": "markdown",
      "source": [
        "# pca Face Recognition system"
      ],
      "metadata": {
        "id": "aJHZfl__FaYU"
      }
    },
    {
      "cell_type": "code",
      "source": [
        "import os\n",
        "import zipfile\n",
        "import numpy as np\n",
        "import cv2\n",
        "from sklearn.decomposition import PCA\n",
        "from sklearn.preprocessing import StandardScaler\n",
        "from sklearn.metrics.pairwise import euclidean_distances"
      ],
      "metadata": {
        "id": "n0E21w8QZdy0"
      },
      "execution_count": 77,
      "outputs": []
    },
    {
      "cell_type": "code",
      "source": [
        "# Step 1: Extract zip file\n",
        "zip_file = \"/content/file.zip\"   # <-- your dataset zip file\n",
        "extract_path = \"faces_data_file\"\n",
        "with zipfile.ZipFile(zip_file, 'r') as zip_ref:\n",
        "    zip_ref.extractall(extract_path)"
      ],
      "metadata": {
        "id": "MPiI08TzPGcO"
      },
      "execution_count": 78,
      "outputs": []
    },
    {
      "cell_type": "code",
      "source": [
        "# Step 2: Load dataset\n",
        "def load_images_from_folder(folder, label):\n",
        "    images, labels = [], []\n",
        "    for filename in os.listdir(folder):\n",
        "        img_path = os.path.join(folder, filename)\n",
        "        img = cv2.imread(img_path, cv2.IMREAD_GRAYSCALE)\n",
        "        if img is not None:\n",
        "            img = cv2.resize(img, (100, 100))  # resize for consistency\n",
        "            images.append(img.flatten())\n",
        "            labels.append(label)\n",
        "    return images, labels"
      ],
      "metadata": {
        "id": "5wPOn45MPPfG"
      },
      "execution_count": 79,
      "outputs": []
    },
    {
      "cell_type": "code",
      "source": [
        "X, y = [], []\n",
        "classes = os.listdir(extract_path)  # ['one','two','three','four']"
      ],
      "metadata": {
        "id": "b9P45idWPUox"
      },
      "execution_count": 80,
      "outputs": []
    },
    {
      "cell_type": "code",
      "source": [
        "classes"
      ],
      "metadata": {
        "colab": {
          "base_uri": "https://localhost:8080/"
        },
        "id": "-tu_UZ7GPYSR",
        "outputId": "195b7fac-1b2d-4659-aa30-2242f36e2a6a"
      },
      "execution_count": 81,
      "outputs": [
        {
          "output_type": "execute_result",
          "data": {
            "text/plain": [
              "['two', 'four', 'one', 'three']"
            ]
          },
          "metadata": {},
          "execution_count": 81
        }
      ]
    },
    {
      "cell_type": "code",
      "source": [
        "for idx, cls in enumerate(classes):\n",
        "    folder = os.path.join(extract_path, cls)\n",
        "    imgs, labels = load_images_from_folder(folder, cls)\n",
        "    X.extend(imgs)\n",
        "    y.extend(labels)"
      ],
      "metadata": {
        "id": "TxLGSItKPaxC"
      },
      "execution_count": 82,
      "outputs": []
    },
    {
      "cell_type": "code",
      "source": [
        "X = np.array(X)\n",
        "y = np.array(y)\n",
        "\n",
        "print(\"Dataset shape:\", X.shape)"
      ],
      "metadata": {
        "colab": {
          "base_uri": "https://localhost:8080/"
        },
        "id": "_vTvNMb7Pcee",
        "outputId": "4780fc18-0494-444a-8927-5b71a6147f89"
      },
      "execution_count": 83,
      "outputs": [
        {
          "output_type": "stream",
          "name": "stdout",
          "text": [
            "Dataset shape: (32, 10000)\n"
          ]
        }
      ]
    },
    {
      "cell_type": "code",
      "source": [
        "len(y)"
      ],
      "metadata": {
        "colab": {
          "base_uri": "https://localhost:8080/"
        },
        "id": "K7FqIt2zREtO",
        "outputId": "5288fa3c-5751-4f0d-e501-2cb791f588c0"
      },
      "execution_count": 91,
      "outputs": [
        {
          "output_type": "execute_result",
          "data": {
            "text/plain": [
              "32"
            ]
          },
          "metadata": {},
          "execution_count": 91
        }
      ]
    },
    {
      "cell_type": "code",
      "source": [
        "# Step 3: Standardize data\n",
        "scaler = StandardScaler()\n",
        "X_scaled = scaler.fit_transform(X)\n",
        "X_scaled\n"
      ],
      "metadata": {
        "colab": {
          "base_uri": "https://localhost:8080/"
        },
        "id": "BuhaI0QPPdLl",
        "outputId": "d0355f24-33f3-4edb-9c4e-ba44c785d402"
      },
      "execution_count": 92,
      "outputs": [
        {
          "output_type": "execute_result",
          "data": {
            "text/plain": [
              "array([[-0.17646863,  0.22260856,  0.2413197 , ..., -0.44002547,\n",
              "        -0.49270123, -0.63907089],\n",
              "       [ 0.37356347,  0.25735721,  0.2413197 , ..., -2.6939689 ,\n",
              "        -2.99448336, -2.77603698],\n",
              "       [-0.21313744,  0.22260856,  0.2413197 , ..., -0.56665151,\n",
              "        -0.62300239, -0.73846466],\n",
              "       ...,\n",
              "       [ 0.37356347,  0.25735721,  0.2413197 , ...,  0.82623488,\n",
              "         0.62788868,  0.72759347],\n",
              "       [ 0.37356347,  0.25735721,  0.2413197 , ...,  0.82623488,\n",
              "         0.62788868,  0.72759347],\n",
              "       [ 0.37356347,  0.25735721,  0.2413197 , ...,  0.82623488,\n",
              "         0.62788868,  0.72759347]])"
            ]
          },
          "metadata": {},
          "execution_count": 92
        }
      ]
    },
    {
      "cell_type": "code",
      "source": [
        "# Step 4: PCA\n",
        "pca = PCA(n_components=30)  # keep 50 eigenfaces\n",
        "X_pca = pca.fit_transform(X_scaled)\n",
        "#X_pca\n",
        "print(\"PCA transformed shape:\", X_pca.shape)"
      ],
      "metadata": {
        "colab": {
          "base_uri": "https://localhost:8080/"
        },
        "id": "GDb8d01JPiqn",
        "outputId": "9e8c180c-2607-462d-e895-589fbd7071e3"
      },
      "execution_count": 95,
      "outputs": [
        {
          "output_type": "stream",
          "name": "stdout",
          "text": [
            "PCA transformed shape: (32, 30)\n"
          ]
        }
      ]
    },
    {
      "cell_type": "code",
      "source": [
        "# Step 5: Store class means in PCA space\n",
        "class_means = {}\n",
        "for cls in np.unique(y):\n",
        "    class_means[cls] = np.mean(X_pca[y == cls], axis=0)\n",
        "\n",
        "class_means"
      ],
      "metadata": {
        "colab": {
          "base_uri": "https://localhost:8080/"
        },
        "id": "YvJOv-A0Pk3s",
        "outputId": "3e2dc4ed-3d70-4def-f3ee-0f0c1df9a853"
      },
      "execution_count": 87,
      "outputs": [
        {
          "output_type": "execute_result",
          "data": {
            "text/plain": [
              "{np.str_('four'): array([-1.59467986e+01, -1.33344672e+01,  6.12493687e+00, -1.88009001e+01,\n",
              "        -2.61236426e+01,  1.16780872e+01,  4.28741367e+00, -1.41002191e+00,\n",
              "        -1.23078077e+00, -3.47747828e+00,  5.17184744e-01,  9.03334804e-01,\n",
              "         5.91865051e-01,  2.01049391e-01,  5.85534686e-01, -3.30676666e-01,\n",
              "        -8.28422034e-01, -1.44372825e-01,  5.43069654e-02,  1.32300464e+00,\n",
              "        -2.56763981e-01, -1.97397781e-02, -2.05812015e-01, -4.45501755e-02,\n",
              "        -1.50375722e-02,  3.53369480e-02, -3.25008664e-02, -6.90618141e-02,\n",
              "         1.62394682e-02,  2.65969876e-14]),\n",
              " np.str_('one'): array([-1.19017288e+01,  2.34685670e+01,  2.19909112e+01,  3.76893618e+01,\n",
              "        -4.26198019e+00, -3.20521129e+00, -4.96467806e-01,  2.03063995e+00,\n",
              "         2.76568907e+00,  4.20375780e+00, -9.42113672e-01, -2.02931411e+00,\n",
              "         1.54038565e+00,  1.78409365e-01, -5.59321447e-01, -1.34919021e-01,\n",
              "        -2.05548999e-01, -3.36787723e-01, -3.91383923e-01,  1.33046585e-01,\n",
              "        -1.81212183e-01,  1.67636940e-01,  3.57119370e-01,  4.29708391e-02,\n",
              "        -1.00749987e-02, -1.15581872e-01,  6.17595672e-02, -6.02390313e-02,\n",
              "        -8.03136733e-03,  2.65969876e-14]),\n",
              " np.str_('three'): array([ 5.14167654e+00,  2.99332912e+01, -4.91414966e+01, -9.00580222e+00,\n",
              "         5.90823064e+00, -5.18802670e+00, -4.12282747e+00,  2.15665122e+00,\n",
              "        -4.55650469e-01,  1.33107930e+00,  8.08043354e-01,  8.69905907e-02,\n",
              "         4.36717321e-01, -4.58596665e-01, -4.26625933e-01,  3.01480118e-01,\n",
              "         1.17919703e+00,  5.28273517e-02,  8.59111675e-01, -3.91072481e-01,\n",
              "         3.63256030e-01,  1.61183456e-01, -8.22123510e-02, -5.45993514e-02,\n",
              "         3.02601451e-02,  2.62131162e-02,  4.42461968e-02,  8.36068692e-02,\n",
              "         6.80935311e-03,  2.65969876e-14]),\n",
              " np.str_('two'): array([ 2.27068509e+01, -4.00673910e+01,  2.10256486e+01, -9.88265950e+00,\n",
              "         2.44773921e+01, -3.28484925e+00,  3.31881604e-01, -2.77726926e+00,\n",
              "        -1.07925783e+00, -2.05735881e+00, -3.83114426e-01,  1.03898871e+00,\n",
              "        -2.56896802e+00,  7.91379082e-02,  4.00412693e-01,  1.64115569e-01,\n",
              "        -1.45225998e-01,  4.28333196e-01, -5.22034717e-01, -1.06497875e+00,\n",
              "         7.47201339e-02, -3.09080618e-01, -6.90950042e-02,  5.61786879e-02,\n",
              "        -5.14757413e-03,  5.40318077e-02, -7.35048976e-02,  4.56939762e-02,\n",
              "        -1.50174540e-02,  2.65969876e-14])}"
            ]
          },
          "metadata": {},
          "execution_count": 87
        }
      ]
    },
    {
      "cell_type": "code",
      "source": [
        "\n",
        "model_data = {\n",
        "    \"scaler\": scaler,\n",
        "    \"pca\": pca,\n",
        "    \"class_means\": class_means\n",
        "}\n",
        "\n",
        "with open(\"pca_face_model.pkl\", \"wb\") as f:\n",
        "    pickle.dump(model_data, f)\n",
        "\n",
        "print(\"Model saved as pca_face_model.pkl\")"
      ],
      "metadata": {
        "colab": {
          "base_uri": "https://localhost:8080/"
        },
        "id": "LR32aEz4SJuL",
        "outputId": "70c3ef14-b2a4-47e0-e0d9-a8a8b778c3c8"
      },
      "execution_count": 88,
      "outputs": [
        {
          "output_type": "stream",
          "name": "stdout",
          "text": [
            "Model saved as pca_face_model.pkl\n"
          ]
        }
      ]
    },
    {
      "cell_type": "code",
      "source": [
        "\n",
        "def predict_face(img_path, model_path=\"pca_face_model.pkl\"):\n",
        "    with open(model_path, \"rb\") as f:\n",
        "        model = pickle.load(f)\n",
        "\n",
        "    scaler = model['scaler']\n",
        "    pca = model['pca']\n",
        "    class_means = model['class_means']\n",
        "\n",
        "    img = cv2.imread(img_path, cv2.IMREAD_GRAYSCALE)\n",
        "    img = cv2.resize(img, (100, 100))\n",
        "    img_flat = img.flatten().reshape(1, -1)\n",
        "\n",
        "    img_scaled = scaler.transform(img_flat)\n",
        "    img_pca = pca.transform(img_scaled)\n",
        "\n",
        "    # Compare with class means\n",
        "    min_dist = float(\"inf\")\n",
        "    predicted_class = None\n",
        "\n",
        "    for cls, mean_vec in class_means.items():\n",
        "        dist = euclidean_distances(img_pca, mean_vec.reshape(1, -1))[0][0]\n",
        "        if dist < min_dist:\n",
        "            min_dist = dist\n",
        "            predicted_class = cls\n",
        "\n",
        "    return predicted_class\n",
        "\n",
        "\n",
        "test_image = \"/content/subject03.sad.png\"\n",
        "predicted = predict_face(test_image)\n",
        "print(\"Predicted Class:\", predicted)"
      ],
      "metadata": {
        "colab": {
          "base_uri": "https://localhost:8080/"
        },
        "id": "BkojkBYjPsvx",
        "outputId": "549f941f-6caf-4594-cfad-662c4d57a024"
      },
      "execution_count": 89,
      "outputs": [
        {
          "output_type": "stream",
          "name": "stdout",
          "text": [
            "Predicted Class: three\n"
          ]
        }
      ]
    },
    {
      "cell_type": "code",
      "source": [
        "import joblib\n",
        "\n",
        "# Save\n",
        "joblib.dump(model_data, \"pca_face_model.joblib\")\n",
        "\n",
        "# Load\n",
        "model_data = joblib.load(\"pca_face_model.joblib\")\n"
      ],
      "metadata": {
        "id": "6WhoT8luPvqz"
      },
      "execution_count": 90,
      "outputs": []
    },
    {
      "cell_type": "code",
      "source": [],
      "metadata": {
        "id": "jZXqQ4CGP04E"
      },
      "execution_count": 90,
      "outputs": []
    },
    {
      "cell_type": "code",
      "source": [],
      "metadata": {
        "id": "-kpudghbRyeE"
      },
      "execution_count": 90,
      "outputs": []
    }
  ]
}